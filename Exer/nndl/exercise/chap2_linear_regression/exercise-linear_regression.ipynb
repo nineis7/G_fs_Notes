{
 "cells": [
  {
   "cell_type": "markdown",
   "metadata": {},
   "source": [
    "## 说明\n",
    "\n",
    "请按照填空顺序编号分别完成 参数优化，不同基函数的实现"
   ]
  },
  {
   "cell_type": "code",
   "execution_count": 98,
   "metadata": {},
   "outputs": [],
   "source": [
    "import numpy as np\n",
    "import matplotlib.pyplot as plt\n",
    "\n",
    "def load_data(filename):\n",
    "    \"\"\"载入数据。\"\"\"\n",
    "    xys = []\n",
    "    with open(filename, 'r') as f:\n",
    "        for line in f:\n",
    "            xys.append(map(float, line.strip().split()))\n",
    "        xs, ys = zip(*xys)\n",
    "        return np.asarray(xs), np.asarray(ys)"
   ]
  },
  {
   "cell_type": "markdown",
   "metadata": {},
   "source": [
    "## 不同的基函数 (basis function)的实现 填空顺序 2\n",
    "\n",
    "请分别在这里实现“多项式基函数”以及“高斯基函数”\n",
    "\n",
    "其中以及训练集的x的范围在0-25之间"
   ]
  },
  {
   "cell_type": "code",
   "execution_count": 99,
   "metadata": {},
   "outputs": [],
   "source": [
    "# x = np.array([2,1])\n",
    "# x = np.expand_dims(x, axis=1) # shape(N, 1)\n",
    "# print(x.shape)\n",
    "# feat = [x]\n",
    "# for i in range(2, 5):\n",
    "#     feat.append(x ** i)\n",
    "\n",
    "# res = np.concatenate(feat, axis=1)\n",
    "# res.shape\n",
    "\n",
    "# feat = [x]\n",
    "# type(feat)\n"
   ]
  },
  {
   "cell_type": "code",
   "execution_count": 100,
   "metadata": {},
   "outputs": [],
   "source": [
    "def identity_basis(x):\n",
    "    ret = np.expand_dims(x, axis=1)\n",
    "    return ret\n",
    "\n",
    "def multinomial_basis(x, feature_num=10):\n",
    "    '''多项式基函数'''\n",
    "    x = np.expand_dims(x, axis=1) # shape(N, 1)\n",
    "    #==========\n",
    "    '''多项式基函数即对样本生成不同维度表示'''\n",
    "    #todo '''请实现多项式基函数'''\n",
    "    feat = [x]\n",
    "    for i in range(2, feature_num+1):\n",
    "        feat.append(x**i)\n",
    "    #==========\n",
    "    ret = np.concatenate(feat, axis=1)\n",
    "    return ret\n",
    "\n",
    "def gaussian_basis(x, feature_num=10):\n",
    "    '''高斯基函数'''\n",
    "    #==========\n",
    "    #todo '''请实现高斯基函数'''\n",
    "    x = np.expand_dims(x, axis=1)\n",
    "    centers = np.linspace(0, 25, feature_num)\n",
    "    width = 1.0 * (centers[1] - centers[0])\n",
    "    \n",
    "    x = np.concatenate([x]*feature_num, axis=1)\n",
    "    out = (x-centers)/width\n",
    "    #==========\n",
    "    ret = np.exp(-0.5 * out**2)\n",
    "    return ret"
   ]
  },
  {
   "cell_type": "code",
   "execution_count": 101,
   "metadata": {},
   "outputs": [],
   "source": [
    "# # 程序主入口（建议不要改动以下函数的接口）\n",
    "# if __name__ == '__main__':\n",
    "#     train_file = 'train.txt'\n",
    "#     test_file = 'test.txt'\n",
    "#     # 载入数据\n",
    "#     x_train, y_train = load_data(train_file)\n",
    "#     x_test, y_test = load_data(test_file)\n",
    "#     print(x_train.shape)\n",
    "#     print(x_test.shape)\n",
    "\n",
    "# x_train[0]\n",
    "# w = np.zeros(2)\n",
    "# w.shape"
   ]
  },
  {
   "cell_type": "markdown",
   "metadata": {},
   "source": [
    "## 返回一个训练好的模型 填空顺序 1 用最小二乘法进行模型优化 \n",
    "## 填空顺序 3 用梯度下降进行模型优化\n",
    "> 先完成最小二乘法的优化 (参考书中第二章 2.3中的公式)\n",
    "\n",
    "> 再完成梯度下降的优化   (参考书中第二章 2.3中的公式)\n",
    "\n",
    "在main中利用训练集训练好模型的参数，并且返回一个训练好的模型。\n",
    "\n",
    "计算出一个优化后的w，请分别使用最小二乘法以及梯度下降两种办法优化w"
   ]
  },
  {
   "cell_type": "code",
   "execution_count": 102,
   "metadata": {},
   "outputs": [
    {
     "data": {
      "text/plain": [
       "(2, (2,))"
      ]
     },
     "execution_count": 102,
     "metadata": {},
     "output_type": "execute_result"
    }
   ],
   "source": [
    "x = np.array([1,2])\n",
    "y = np.expand_dims(np.ones_like(x), axis=1)\n",
    "x = np.array([[4], [5]])\n",
    "z = np.concatenate([x, y], axis=1)\n",
    "z[0].shape[0], z[1].T.shape"
   ]
  },
  {
   "cell_type": "code",
   "execution_count": 103,
   "metadata": {},
   "outputs": [
    {
     "ename": "SyntaxError",
     "evalue": "'(' was never closed (1677475434.py, line 29)",
     "output_type": "error",
     "traceback": [
      "\u001b[1;36m  File \u001b[1;32m\"C:\\Users\\Administrator\\AppData\\Local\\Temp\\ipykernel_3508\\1677475434.py\"\u001b[1;36m, line \u001b[1;32m29\u001b[0m\n\u001b[1;33m    print(learning_rate * np.dot(phi.T[i], (y_train[i] - np.dot(phi.T[i], w)))\u001b[0m\n\u001b[1;37m         ^\u001b[0m\n\u001b[1;31mSyntaxError\u001b[0m\u001b[1;31m:\u001b[0m '(' was never closed\n"
     ]
    }
   ],
   "source": [
    "def main(x_train, y_train):\n",
    "    \"\"\"\n",
    "    训练模型，并返回从x到y的映射。\n",
    "    \n",
    "    \"\"\"\n",
    "    basis_func = multinomial_basis\n",
    "    phi0 = np.expand_dims(np.ones_like(x_train), axis=1) #shape(N, 1)\n",
    "    phi1 = basis_func(x_train) #shape(N, feature_num)\n",
    "    phi = np.concatenate([phi1, phi0], axis=1).T #shape(feature_num+1, N) 第二行均为1 增广权重向量\n",
    "    \n",
    "    \n",
    "    #==========\n",
    "    # #todo '''计算出一个优化后的w，请分别使用最小二乘法以及梯度下降两种办法优化w'''\n",
    "    # '''method1 最小二乘'''\n",
    "    # # 2xNxNx2x2xNxNx.\n",
    "    # w = np.dot(np.dot(np.linalg.inv(np.dot(phi, phi.T)), phi), y_train)\n",
    "    # #print(\"最小二乘得 w is: \", w)\n",
    "    # '''最小二乘法并非如梯度下降般通过训练来求得最优解，而是直接通过数学计算计算出最优解'''\n",
    "    \n",
    "    '''method2 梯度下降'''\n",
    "    training_loop = 10000\n",
    "    learning_rate = 0.001\n",
    "    \n",
    "    w = np.zeros(phi.shape[0])\n",
    "    #w = np.expand_dims(w, axis=1)\n",
    "    for j in range(training_loop):\n",
    "        # fnx1 + fnxNxNx1\n",
    "        for i in range(len(x_train)):\n",
    "            print(learning_rate * np.dot(phi.T[i], (y_train[i] - np.dot(phi.T[i], w))) )\n",
    "            w = w + learning_rate * np.dot(phi.T[i], (y_train[i] - np.dot(phi.T[i], w)) )\n",
    "\n",
    "    #print(\"finally w is: \", w)\n",
    "    #==========\n",
    "    \n",
    "    \n",
    "    def f(x):\n",
    "        phi0 = np.expand_dims(np.ones_like(x), axis=1)\n",
    "        phi1 = basis_func(x) # Nxfeature_num\n",
    "        phi = np.concatenate([phi1, phi0], axis=1)\n",
    "        y = np.dot(phi, w) #Nxfnxfnx1\n",
    "        return y\n",
    "\n",
    "    return f"
   ]
  },
  {
   "cell_type": "code",
   "execution_count": null,
   "metadata": {},
   "outputs": [],
   "source": [
    "# w = np.zeros([2,1])\n",
    "# w, w.shape"
   ]
  },
  {
   "cell_type": "markdown",
   "metadata": {},
   "source": [
    "## 评估结果 \n",
    "> 没有需要填写的代码，但是建议读懂"
   ]
  },
  {
   "cell_type": "code",
   "execution_count": null,
   "metadata": {},
   "outputs": [
    {
     "name": "stdout",
     "output_type": "stream",
     "text": [
      "(300,)\n",
      "(200,)\n"
     ]
    },
    {
     "name": "stderr",
     "output_type": "stream",
     "text": [
      "C:\\Users\\Administrator\\AppData\\Local\\Temp\\ipykernel_3508\\3434647028.py:29: RuntimeWarning: invalid value encountered in add\n",
      "  w = w + learning_rate * np.dot(phi.T[i], (y_train[i] - np.dot(phi.T[i], w)) )\n"
     ]
    },
    {
     "name": "stdout",
     "output_type": "stream",
     "text": [
      "训练集预测值与真实值的标准差：nan\n",
      "预测值与真实值的标准差：nan\n"
     ]
    },
    {
     "data": {
      "image/png": "[encoded data removed]",
      "text/plain": [
       "<Figure size 640x480 with 1 Axes>"
      ]
     },
     "metadata": {},
     "output_type": "display_data"
    }
   ],
   "source": [
    "def evaluate(ys, ys_pred):\n",
    "    \"\"\"评估模型。\"\"\"\n",
    "    std = np.sqrt(np.mean(np.abs(ys - ys_pred) ** 2))\n",
    "    return std\n",
    "\n",
    "# 程序主入口（建议不要改动以下函数的接口）\n",
    "if __name__ == '__main__':\n",
    "    train_file = 'train.txt'\n",
    "    test_file = 'test.txt'\n",
    "    # 载入数据\n",
    "    x_train, y_train = load_data(train_file)\n",
    "    x_test, y_test = load_data(test_file)\n",
    "    print(x_train.shape)\n",
    "    print(x_test.shape)\n",
    "\n",
    "    # 使用线性回归训练模型，返回一个函数f()使得y = f(x)\n",
    "    f = main(x_train, y_train)\n",
    "\n",
    "    y_train_pred = f(x_train)\n",
    "    std = evaluate(y_train, y_train_pred)\n",
    "    print('训练集预测值与真实值的标准差：{:.1f}'.format(std))\n",
    "    \n",
    "    # 计算预测的输出值\n",
    "    y_test_pred = f(x_test)\n",
    "    # 使用测试集评估模型\n",
    "    std = evaluate(y_test, y_test_pred)\n",
    "    print('预测值与真实值的标准差：{:.1f}'.format(std))\n",
    "\n",
    "    #显示结果\n",
    "    plt.plot(x_train, y_train, 'ro', markersize=3)\n",
    "    #plt.plot(x_test, y_test, 'k')\n",
    "    plt.plot(x_test, y_test_pred, 'k')\n",
    "    plt.xlabel('x')\n",
    "    plt.ylabel('y')\n",
    "    plt.title('Linear Regression')\n",
    "    plt.legend(['train', 'test', 'pred'])\n",
    "    plt.show()"
   ]
  },
  {
   "cell_type": "code",
   "execution_count": null,
   "metadata": {},
   "outputs": [],
   "source": []
  }
 ],
 "metadata": {
  "kernelspec": {
   "display_name": "Python 3.10.8 ('ML')",
   "language": "python",
   "name": "python3"
  },
  "language_info": {
   "codemirror_mode": {
    "name": "ipython",
    "version": 3
   },
   "file_extension": ".py",
   "mimetype": "text/x-python",
   "name": "python",
   "nbconvert_exporter": "python",
   "pygments_lexer": "ipython3",
   "version": "3.10.8"
  },
  "pycharm": {
   "stem_cell": {
    "cell_type": "raw",
    "metadata": {
     "collapsed": false
    },
    "source": []
   }
  },
  "vscode": {
   "interpreter": {
    "hash": "f3fc8f37d07408d45c02bd233883b3c0626fd53f17222167d698ff7ffd3f87d9"
   }
  }
 },
 "nbformat": 4,
 "nbformat_minor": 2
}
