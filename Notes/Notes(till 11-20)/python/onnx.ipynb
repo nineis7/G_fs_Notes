{
 "cells": [
  {
   "cell_type": "code",
   "execution_count": 1,
   "metadata": {},
   "outputs": [
    {
     "name": "stderr",
     "output_type": "stream",
     "text": [
      "e:\\anaconda3\\envs\\PyTorch\\lib\\site-packages\\torchvision\\models\\_utils.py:208: UserWarning: The parameter 'pretrained' is deprecated since 0.13 and may be removed in the future, please use 'weights' instead.\n",
      "  warnings.warn(\n",
      "e:\\anaconda3\\envs\\PyTorch\\lib\\site-packages\\torchvision\\models\\_utils.py:223: UserWarning: Arguments other than a weight enum or `None` for 'weights' are deprecated since 0.13 and may be removed in the future. The current behavior is equivalent to passing `weights=ResNet18_Weights.IMAGENET1K_V1`. You can also use `weights=ResNet18_Weights.DEFAULT` to get the most up-to-date weights.\n",
      "  warnings.warn(msg)\n"
     ]
    },
    {
     "name": "stdout",
     "output_type": "stream",
     "text": [
      "281\n"
     ]
    }
   ],
   "source": [
    "import torch\n",
    "import numpy as np\n",
    "import torchvision\n",
    "\n",
    "\n",
    "# 加载torchvision中的Resnet18 model\n",
    "model_name = \"resnet18\"\n",
    "model = getattr(torchvision.models, model_name)(pretrained = True)\n",
    "model = model.eval() #不启用 Batch Normalization 和 Dropout\n",
    "\n",
    "from PIL import Image\n",
    "image_path = 'cat.png'\n",
    "img = Image.open(image_path).resize((224,224))\n",
    "\n",
    "# 处理图像并转成Tensor\n",
    "from torchvision import transforms\n",
    "\n",
    "my_preprocess = transforms.Compose(\n",
    "    [\n",
    "        transforms.Resize(256),\n",
    "        transforms.CenterCrop(224),\n",
    "        transforms.ToTensor(),\n",
    "        transforms.Normalize(mean=[0.485, 0.456, 0.406], std=[0.229, 0.224, 0.225]),\n",
    "    ]\n",
    ")\n",
    "img = my_preprocess(img)\n",
    "img = np.expand_dims(img, 0)\n",
    "\n",
    "# 使用PyTorch进行预测结果\n",
    "with torch.no_grad():\n",
    "    torch_img = torch.from_numpy(img)\n",
    "    output = model(torch_img)\n",
    "\n",
    "    top1_torch = np.argmax(output.numpy())\n",
    "\n",
    "print(top1_torch)\n",
    "\n",
    "# export onnx\n",
    "\n",
    "torch_out = torch.onnx.export(model, torch_img, 'resnet18.onnx', verbose=True, export_params=True)"
   ]
  },
  {
   "cell_type": "code",
   "execution_count": null,
   "metadata": {},
   "outputs": [],
   "source": []
  }
 ],
 "metadata": {
  "kernelspec": {
   "display_name": "Python 3.9.13 ('PyTorch')",
   "language": "python",
   "name": "python3"
  },
  "language_info": {
   "codemirror_mode": {
    "name": "ipython",
    "version": 3
   },
   "file_extension": ".py",
   "mimetype": "text/x-python",
   "name": "python",
   "nbconvert_exporter": "python",
   "pygments_lexer": "ipython3",
   "version": "3.9.13"
  },
  "orig_nbformat": 4,
  "vscode": {
   "interpreter": {
    "hash": "56777adc06c6e242ebb6ccb242a3b10d63ed7b9eb1f0aebb8229db46b78e7811"
   }
  }
 },
 "nbformat": 4,
 "nbformat_minor": 2
}
