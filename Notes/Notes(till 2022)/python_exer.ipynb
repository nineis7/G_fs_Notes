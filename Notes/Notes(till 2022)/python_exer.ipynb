{
 "cells": [
  {
   "cell_type": "markdown",
   "metadata": {},
   "source": [
    "# Chapter 2"
   ]
  },
  {
   "cell_type": "code",
   "execution_count": 8,
   "metadata": {},
   "outputs": [
    {
     "name": "stdout",
     "output_type": "stream",
     "text": [
      "qj现在收入10000\n",
      "qj现在为10000*5产品\n",
      "qj今儿收入10000\n"
     ]
    }
   ],
   "source": [
    "money =  10000\n",
    "time = 5\n",
    "name = \"qj\"\n",
    "v = \"产品\"\n",
    "\n",
    "#占位符和%必须靠在一起\n",
    "print(name + '现在收入%5d' % money)\n",
    "print(name + '现在为%d*%d' % (money, time) + v)\n",
    "#快速格式化写法，但没有精度控制\n",
    "print(f'{name}今儿收入{money}')"
   ]
  },
  {
   "cell_type": "code",
   "execution_count": 10,
   "metadata": {},
   "outputs": [
    {
     "name": "stdout",
     "output_type": "stream",
     "text": [
      "公司：qj，股票代码：003032，当前股价：19.99\n",
      "每日增长系数是：1.200000，经过7天的增长后，股价达到了71.627784\n"
     ]
    }
   ],
   "source": [
    "#股价计算练习题\n",
    "\n",
    "name = 'qj'\n",
    "stock_price = 19.99\n",
    "stock_code = '003032'\n",
    "stock_price_daily_growth_factor = 1.2\n",
    "growth_days = int(input('经过多少天后呢'))\n",
    "\n",
    "print(f'公司：{name}，股票代码：{stock_code}，当前股价：{stock_price}')\n",
    "print('每日增长系数是：%f，经过%d天的增长后，股价达到了%f' \n",
    "        % (stock_price_daily_growth_factor, growth_days, stock_price * stock_price_daily_growth_factor ** growth_days))\n"
   ]
  }
 ],
 "metadata": {
  "kernelspec": {
   "display_name": "Python 3.9.13 ('PyTorch')",
   "language": "python",
   "name": "python3"
  },
  "language_info": {
   "codemirror_mode": {
    "name": "ipython",
    "version": 3
   },
   "file_extension": ".py",
   "mimetype": "text/x-python",
   "name": "python",
   "nbconvert_exporter": "python",
   "pygments_lexer": "ipython3",
   "version": "3.9.13"
  },
  "orig_nbformat": 4,
  "vscode": {
   "interpreter": {
    "hash": "56777adc06c6e242ebb6ccb242a3b10d63ed7b9eb1f0aebb8229db46b78e7811"
   }
  }
 },
 "nbformat": 4,
 "nbformat_minor": 2
}
