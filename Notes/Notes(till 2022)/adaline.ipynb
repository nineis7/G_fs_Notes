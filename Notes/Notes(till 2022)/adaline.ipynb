{
 "cells": [
  {
   "cell_type": "markdown",
   "metadata": {},
   "source": [
    "# 对新学的内容的测试"
   ]
  },
  {
   "cell_type": "code",
   "execution_count": 1,
   "metadata": {},
   "outputs": [],
   "source": [
    "import sys\n",
    "sys.path.append('../..')\n",
    "\n",
    "import numpy as np\n",
    "import matrixslow as ms\n",
    "\n",
    "# 生成数据\n",
    "\n",
    "male_heights = np.random.normal(171, 6, 500)\n",
    "female_heights = np.random.normal(158, 5, 500)\n",
    "\n",
    "male_weights = np.random.normal(70, 10, 500)\n",
    "female_weights = np.random.normal(57, 8, 500)\n",
    "\n",
    "male_bfrs = np.random.normal(16, 2, 500)\n",
    "female_bfrs = np.random.normal(22, 2, 500)"
   ]
  },
  {
   "cell_type": "code",
   "execution_count": 2,
   "metadata": {},
   "outputs": [],
   "source": [
    "male_labels = [1] * 500\n",
    "female_labels = [-1] * 500\n",
    "\n",
    "#male_labels"
   ]
  },
  {
   "cell_type": "code",
   "execution_count": 3,
   "metadata": {},
   "outputs": [
    {
     "data": {
      "text/plain": [
       "array([[171.21966958,  74.52480776,  13.70133268,   1.        ],\n",
       "       [163.45682221,  61.72999744,  22.3859531 ,  -1.        ],\n",
       "       [169.64023457,  69.46637363,  12.58778633,   1.        ],\n",
       "       ...,\n",
       "       [181.40011955,  69.76301993,  15.63583609,   1.        ],\n",
       "       [153.19605242,  66.96941103,  18.68954512,  -1.        ],\n",
       "       [159.39800141,  59.73767205,  17.57935046,  -1.        ]])"
      ]
     },
     "execution_count": 3,
     "metadata": {},
     "output_type": "execute_result"
    }
   ],
   "source": [
    "#组合数据\n",
    "\n",
    "train_set = np.array([np.concatenate((male_heights, female_heights)),\n",
    "                      np.concatenate((male_weights, female_weights)),\n",
    "                      np.concatenate((male_bfrs, female_bfrs)),\n",
    "                      np.concatenate((male_labels, female_labels))]).T\n",
    "\n",
    "\n",
    "np.random.shuffle(train_set)\n",
    "# 由输出可见array中第一个元素为一个样本\n",
    "train_set"
   ]
  },
  {
   "cell_type": "code",
   "execution_count": 4,
   "metadata": {},
   "outputs": [],
   "source": [
    "# 定义变量\n",
    "\n",
    "x = ms.core.Variable(dim=(3,1), init=False, trainable=False)\n",
    "w = ms.core.Variable(dim=(1,3), init=True, trainable=True)\n",
    "b = ms.core.Variable(dim=(1,1), init=True, trainable=True)\n",
    "label = ms.core.Variable(dim=(1,1), init=False, trainable=False)"
   ]
  },
  {
   "cell_type": "markdown",
   "metadata": {},
   "source": [
    "定义节点，无论是Add、Step还是loss function，其实都是node，定义后调用基类node的__init__构造函数，制造出父子双向关系并放入计算图中；而这些都是定义，真正数据的计算发生在前向传播和后向传播中，前向传播forward()递归调用节点的compute()，根据不同node调用不同compute的实现。\n",
    "节点的定义可以嵌套调用。"
   ]
  },
  {
   "cell_type": "code",
   "execution_count": 5,
   "metadata": {},
   "outputs": [],
   "source": [
    "# 定义计算图\n",
    "output = ms.ops.Add(ms.ops.MatMul(w,x), b)\n",
    "predict = ms.ops.Step(output) #激活函数\n",
    "\n",
    "# 定义损失函数\n",
    "loss = ms.ops.loss.PerceptionLoss(ms.ops.MatMul(output, label))\n",
    "\n",
    "# 定义学习率\n",
    "learning_rate = 0.0001"
   ]
  },
  {
   "cell_type": "code",
   "execution_count": 6,
   "metadata": {},
   "outputs": [
    {
     "data": {
      "text/plain": [
       "matrix([[0.20615738]])"
      ]
     },
     "execution_count": 6,
     "metadata": {},
     "output_type": "execute_result"
    }
   ],
   "source": [
    "features = np.mat(train_set[1,:-1]).T\n",
    "x.set_value(features)\n",
    "        \n",
    "l = np.mat(train_set[1,-1])\n",
    "label.set_value(l)\n",
    "        \n",
    "# 前向传播计算损失值，以作为之后参数训练的结果节点\n",
    "loss.forward()\n",
    "\n",
    "w.backward(loss)\n",
    "b.backward(loss)\n",
    "\n",
    "loss.value"
   ]
  },
  {
   "cell_type": "code",
   "execution_count": 9,
   "metadata": {},
   "outputs": [
    {
     "data": {
      "text/plain": [
       "(1, 3)"
      ]
     },
     "execution_count": 9,
     "metadata": {},
     "output_type": "execute_result"
    }
   ],
   "source": [
    "w.jacobi.T\n",
    "w.shape()\n",
    "#w.jacobi.T.reshape(w.shape())"
   ]
  },
  {
   "cell_type": "code",
   "execution_count": 8,
   "metadata": {},
   "outputs": [
    {
     "data": {
      "text/plain": [
       "'\\n# 开始迭代50个epoch\\nfor epoch in range(50):\\n    # 循环训练样本\\n    for i in range(len(train_set)):\\n        # 初始化\\n        features = np.mat(train_set[i,:-1]).T\\n        x.set_value(features)\\n        \\n        l = np.mat(train_set[i,-1])\\n        label.set_value(l)\\n        \\n        # 前向传播计算损失值，以作为之后参数训练的结果节点\\n        loss.forward()\\n        \\n        # 反向传播，更新参数\\n        w.backward(loss)\\n        b.backward(loss)\\n        \\n        w.set_value(w.value - learning_rate*w.jacobi.T.reshape(w.shape()))\\n        b.set_value(b.value - learning_rate*b.jacobi.T.reshape(b.shape()))\\n        \\n        ms.default_graph.clear_jacobi()\\n    \\n    #epoch结束后评价准确率\\n    pred = []\\n    \\n    #训练完参数后对predict进行向前传播，分析正确率\\n    for i in range(len(train_set)):\\n        features = np.mat(train_set[i, :-1]).T\\n        x.set_value(features)\\n        \\n        l = np.mat(train_set[i,-1])\\n        label.set_value(l)\\n        \\n        # 前向传播计算pred结果并保存到数组中\\n        predict.forward()\\n        pred.append(predict.value[0,0])\\n        \\n    pred = np.array(pred)*2 -1\\n    \\n    accuracy = (train_set[:,-1] == pred).astype(np.int).sum() / len(train_set)\\n    print(\"epoch: {:d}, accuracy: {:.3f}\".format(epoch+1, accuracy))\\n'"
      ]
     },
     "execution_count": 8,
     "metadata": {},
     "output_type": "execute_result"
    }
   ],
   "source": [
    "# 开始迭代50个epoch\n",
    "for epoch in range(50):\n",
    "    # 循环训练样本\n",
    "    for i in range(len(train_set)):\n",
    "        # 初始化\n",
    "        features = np.mat(train_set[i,:-1]).T\n",
    "        x.set_value(features)\n",
    "        \n",
    "        l = np.mat(train_set[i,-1])\n",
    "        label.set_value(l)\n",
    "        \n",
    "        # 前向传播计算损失值，以作为之后参数训练的结果节点\n",
    "        loss.forward()\n",
    "        \n",
    "        # 反向传播，更新参数\n",
    "        w.backward(loss)\n",
    "        b.backward(loss)\n",
    "        \n",
    "        w.set_value(w.value - learning_rate*w.jacobi.T.reshape(w.shape()))\n",
    "        b.set_value(b.value - learning_rate*b.jacobi.T.reshape(b.shape()))\n",
    "        \n",
    "        ms.default_graph.clear_jacobi()\n",
    "    \n",
    "    #epoch结束后评价准确率\n",
    "    pred = []\n",
    "    \n",
    "    #训练完参数后对predict进行向前传播，分析正确率\n",
    "    for i in range(len(train_set)):\n",
    "        features = np.mat(train_set[i, :-1]).T\n",
    "        x.set_value(features)\n",
    "        \n",
    "        l = np.mat(train_set[i,-1])\n",
    "        label.set_value(l)\n",
    "        \n",
    "        # 前向传播计算pred结果并保存到数组中\n",
    "        predict.forward()\n",
    "        pred.append(predict.value[0,0])\n",
    "        \n",
    "    pred = np.array(pred)*2 -1\n",
    "    \n",
    "    accuracy = (train_set[:,-1] == pred).astype(np.int).sum() / len(train_set)\n",
    "    print(\"epoch: {:d}, accuracy: {:.3f}\".format(epoch+1, accuracy))"
   ]
  },
  {
   "cell_type": "markdown",
   "metadata": {},
   "source": [
    "# 总结\n",
    "\n",
    "在概念上厘清，在实现上支持，在名词上谦虚。"
   ]
  }
 ],
 "metadata": {
  "kernelspec": {
   "display_name": "Python 3.9.13 ('PyTorch')",
   "language": "python",
   "name": "python3"
  },
  "language_info": {
   "codemirror_mode": {
    "name": "ipython",
    "version": 3
   },
   "file_extension": ".py",
   "mimetype": "text/x-python",
   "name": "python",
   "nbconvert_exporter": "python",
   "pygments_lexer": "ipython3",
   "version": "3.9.13"
  },
  "orig_nbformat": 4,
  "vscode": {
   "interpreter": {
    "hash": "56777adc06c6e242ebb6ccb242a3b10d63ed7b9eb1f0aebb8229db46b78e7811"
   }
  }
 },
 "nbformat": 4,
 "nbformat_minor": 2
}
