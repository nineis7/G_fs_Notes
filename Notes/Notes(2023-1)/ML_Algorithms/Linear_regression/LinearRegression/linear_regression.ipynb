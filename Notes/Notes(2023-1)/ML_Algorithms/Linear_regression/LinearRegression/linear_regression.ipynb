{
 "cells": [
  {
   "cell_type": "markdown",
   "metadata": {},
   "source": [
    "# 线性回归代码实现"
   ]
  },
  {
   "cell_type": "code",
   "execution_count": 11,
   "metadata": {},
   "outputs": [],
   "source": [
    "import sys\n",
    "sys.path.append('..')\n",
    "\n",
    "import numpy as np\n",
    "from utils.features import prepare_for_training"
   ]
  },
  {
   "cell_type": "code",
   "execution_count": 10,
   "metadata": {},
   "outputs": [],
   "source": [
    "class LinearRegression:\n",
    "      \n",
    "    def __init__(self, data, labels, polynomial_degree = 0, sinusoid_degree = 0, normalize_data = True):\n",
    "        '''\n",
    "        1. 数据预处理\n",
    "        2. 得到特征个数\n",
    "        3. 初始化参数矩阵\n",
    "        '''\n",
    "        (data_processed,\n",
    "         features_mean,\n",
    "         features_deviation) = prepare_for_training(data, polynomial_degree=0, sinusoid_degree=0, normalize_data=True)\n",
    "        \n",
    "        self.data = data_processed\n",
    "        self.labels = labels\n",
    "        self.features_mean = features_mean\n",
    "        self.features_deviation = features_deviation\n",
    "        self.polynomial_degree = polynomial_degree\n",
    "        self.sinusoid_degree = sinusoid_degree\n",
    "        self.normalize_data = normalize_data\n",
    "        \n",
    "        num_features = self.data.shape[1] #特征列\n",
    "        self.theta = np.zeros((num_features, 1)) #theta的shape为(num_features, 1)，提前先转置\n",
    "        \n",
    "    def train(self, alpha, num_interations = 500):\n",
    "        '''\n",
    "        训练模块\n",
    "        调用梯度下降\n",
    "        '''\n",
    "        cost_history = LinearRegression.gradient_descent(alpha, num_interations)\n",
    "        return self.theta, cost_history\n",
    "    \n",
    "    def gradient_descent(self, alpha, num_interations):\n",
    "        '''\n",
    "        迭代模块\n",
    "        '''\n",
    "        cost_history = []\n",
    "        for _ in range(num_interations):\n",
    "            self.gradient_step(alpha)\n",
    "            cost_history.append(self.cost_function(self.data, self.labels))\n",
    "        return cost_history\n",
    "            \n",
    "    def gradient_step(self, alpha):\n",
    "        '''\n",
    "        参数更新计算方法，\n",
    "        '''\n",
    "        num_samples = self.data.shape[0]\n",
    "        prediction = LinearRegression.hypothesis(self.data, self.theta)\n",
    "        delta = prediction - self.labels\n",
    "        theta = self.theta\n",
    "        theta = theta - alpha * (1 / num_samples) * (np.dot(delta.T, self.data)).T #不转置矩阵计算不了\n",
    "        self.theta = theta\n",
    "        \n",
    "    def cost_function(self, data, labels):\n",
    "        num_examples = data.shapes[0]\n",
    "        delta = LinearRegression.hypothesis(self.data, self.theta) - labels\n",
    "        cost = (1/2) * np.dot(delta.T, delta) / num_examples #损失函数定义\n",
    "        return cost[0][0]\n",
    "    \n",
    "    @staticmethod\n",
    "    def hypothesis(data, theta):\n",
    "        predictions = np.dot(data, theta)\n",
    "        return predictions\n",
    "    \n",
    "    \n",
    "    def get_cost(self, data, labels):\n",
    "        data_processed = prepare_for_training(data, self.polynomial_degree, self.sinusoid_degree, self.normalize_data)[0]\n",
    "        \n",
    "        return self.cost_function(data_processed, labels)\n",
    "    \n",
    "    def predict(self, data):\n",
    "        data_processed = prepare_for_training(data, self.polynomial_degree, self.sinusoid_degree, self.normalize_data)[0]\n",
    "        \n",
    "        predictions = LinearRegression.hypothesis(data_processed, self.theta)\n",
    "        \n",
    "        return predictions"
   ]
  }
 ],
 "metadata": {
  "kernelspec": {
   "display_name": "Python 3.9.15 ('ML')",
   "language": "python",
   "name": "python3"
  },
  "language_info": {
   "codemirror_mode": {
    "name": "ipython",
    "version": 3
   },
   "file_extension": ".py",
   "mimetype": "text/x-python",
   "name": "python",
   "nbconvert_exporter": "python",
   "pygments_lexer": "ipython3",
   "version": "3.10.8"
  },
  "orig_nbformat": 4,
  "vscode": {
   "interpreter": {
    "hash": "f3fc8f37d07408d45c02bd233883b3c0626fd53f17222167d698ff7ffd3f87d9"
   }
  }
 },
 "nbformat": 4,
 "nbformat_minor": 2
}
