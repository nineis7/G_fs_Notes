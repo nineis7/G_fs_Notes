{
 "cells": [
  {
   "cell_type": "markdown",
   "metadata": {},
   "source": [
    "# transformers"
   ]
  },
  {
   "cell_type": "code",
   "execution_count": 1,
   "metadata": {},
   "outputs": [
    {
     "name": "stdout",
     "output_type": "stream",
     "text": [
      "Collecting seabornNote: you may need to restart the kernel to use updated packages.\n",
      "\n",
      "  Downloading seaborn-0.12.2-py3-none-any.whl (293 kB)\n",
      "     ------------------------------------ 293.3/293.3 kB 142.6 kB/s eta 0:00:00\n",
      "Requirement already satisfied: numpy!=1.24.0,>=1.17 in e:\\anaconda3\\envs\\pytorch\\lib\\site-packages (from seaborn) (1.23.4)\n",
      "Collecting matplotlib!=3.6.1,>=3.1\n",
      "  Downloading matplotlib-3.6.2-cp39-cp39-win_amd64.whl (7.2 MB)\n",
      "     ---------------------------------------- 7.2/7.2 MB 6.6 MB/s eta 0:00:00\n",
      "Collecting pandas>=0.25\n",
      "  Downloading pandas-1.5.2-cp39-cp39-win_amd64.whl (10.9 MB)\n",
      "     ---------------------------------------- 10.9/10.9 MB 2.4 MB/s eta 0:00:00\n",
      "Requirement already satisfied: pyparsing>=2.2.1 in e:\\anaconda3\\envs\\pytorch\\lib\\site-packages (from matplotlib!=3.6.1,>=3.1->seaborn) (3.0.9)\n",
      "Collecting contourpy>=1.0.1\n",
      "  Downloading contourpy-1.0.6-cp39-cp39-win_amd64.whl (161 kB)\n",
      "     -------------------------------------- 161.3/161.3 kB 1.2 MB/s eta 0:00:00\n",
      "Requirement already satisfied: pillow>=6.2.0 in e:\\anaconda3\\envs\\pytorch\\lib\\site-packages (from matplotlib!=3.6.1,>=3.1->seaborn) (9.2.0)\n",
      "Collecting fonttools>=4.22.0\n",
      "  Downloading fonttools-4.38.0-py3-none-any.whl (965 kB)\n",
      "     -------------------------------------- 965.4/965.4 kB 1.3 MB/s eta 0:00:00\n",
      "Requirement already satisfied: packaging>=20.0 in e:\\anaconda3\\envs\\pytorch\\lib\\site-packages (from matplotlib!=3.6.1,>=3.1->seaborn) (21.3)\n",
      "Collecting kiwisolver>=1.0.1\n",
      "  Downloading kiwisolver-1.4.4-cp39-cp39-win_amd64.whl (55 kB)\n",
      "     ---------------------------------------- 55.4/55.4 kB 1.4 MB/s eta 0:00:00\n",
      "Requirement already satisfied: python-dateutil>=2.7 in e:\\anaconda3\\envs\\pytorch\\lib\\site-packages (from matplotlib!=3.6.1,>=3.1->seaborn) (2.8.2)\n",
      "Collecting cycler>=0.10\n",
      "  Downloading cycler-0.11.0-py3-none-any.whl (6.4 kB)\n",
      "Collecting pytz>=2020.1\n",
      "  Downloading pytz-2022.7-py2.py3-none-any.whl (499 kB)\n",
      "     -------------------------------------- 499.4/499.4 kB 1.0 MB/s eta 0:00:00\n",
      "Requirement already satisfied: six>=1.5 in e:\\anaconda3\\envs\\pytorch\\lib\\site-packages (from python-dateutil>=2.7->matplotlib!=3.6.1,>=3.1->seaborn) (1.16.0)\n",
      "Installing collected packages: pytz, kiwisolver, fonttools, cycler, contourpy, pandas, matplotlib, seaborn\n",
      "Successfully installed contourpy-1.0.6 cycler-0.11.0 fonttools-4.38.0 kiwisolver-1.4.4 matplotlib-3.6.2 pandas-1.5.2 pytz-2022.7 seaborn-0.12.2\n"
     ]
    }
   ],
   "source": [
    "pip install seaborn"
   ]
  },
  {
   "cell_type": "code",
   "execution_count": 4,
   "metadata": {},
   "outputs": [],
   "source": [
    "# 所需包导入\n",
    "\n",
    "import torch\n",
    "import torch.nn as nn\n",
    "import torch.nn.functional as F\n",
    "from torch.autograd import Variable\n",
    "import math\n",
    "import matplotlib.pyplot as plt\n",
    "import numpy as np\n",
    "import copy"
   ]
  },
  {
   "cell_type": "code",
   "execution_count": 6,
   "metadata": {},
   "outputs": [
    {
     "name": "stdout",
     "output_type": "stream",
     "text": [
      "tensor([[[-1.2740, -1.5746, -0.5884],\n",
      "         [-1.4266,  0.5935,  0.0947],\n",
      "         [-0.2122,  0.1194,  0.0038],\n",
      "         [ 0.9496, -0.5862, -0.1772]],\n",
      "\n",
      "        [[ 0.9496, -0.5862, -0.1772],\n",
      "         [-1.4266,  0.5935,  0.0947],\n",
      "         [-1.2191,  0.2150,  0.9814],\n",
      "         [-0.2122,  0.1194,  0.0038]]], grad_fn=<EmbeddingBackward0>)\n"
     ]
    }
   ],
   "source": [
    "embedding = nn.Embedding(10,3)\n",
    "input1 = torch.LongTensor([[2,4,5,7], [7,4,3,5]])\n",
    "print(embedding(input1))"
   ]
  },
  {
   "cell_type": "code",
   "execution_count": 7,
   "metadata": {},
   "outputs": [
    {
     "name": "stdout",
     "output_type": "stream",
     "text": [
      "tensor([[[-0.2096,  1.0371,  0.7864],\n",
      "         [-0.2331, -0.8311, -1.6735],\n",
      "         [-2.6193, -0.7407, -0.8745],\n",
      "         [-0.2810,  0.7837, -1.1342]],\n",
      "\n",
      "        [[-0.2810,  0.7837, -1.1342],\n",
      "         [-0.2331, -0.8311, -1.6735],\n",
      "         [ 1.0651, -1.2511, -0.8078],\n",
      "         [-2.6193, -0.7407, -0.8745]]], grad_fn=<EmbeddingBackward0>)\n"
     ]
    }
   ],
   "source": [
    "embedding = nn.Embedding(10, 3, padding_idx=0)\n",
    "input1 = torch.LongTensor([[2,4,5,7], [7,4,3,5]])\n",
    "print(embedding(input1))"
   ]
  }
 ],
 "metadata": {
  "kernelspec": {
   "display_name": "Python 3.9.13 ('PyTorch')",
   "language": "python",
   "name": "python3"
  },
  "language_info": {
   "codemirror_mode": {
    "name": "ipython",
    "version": 3
   },
   "file_extension": ".py",
   "mimetype": "text/x-python",
   "name": "python",
   "nbconvert_exporter": "python",
   "pygments_lexer": "ipython3",
   "version": "3.9.13"
  },
  "orig_nbformat": 4,
  "vscode": {
   "interpreter": {
    "hash": "56777adc06c6e242ebb6ccb242a3b10d63ed7b9eb1f0aebb8229db46b78e7811"
   }
  }
 },
 "nbformat": 4,
 "nbformat_minor": 2
}
